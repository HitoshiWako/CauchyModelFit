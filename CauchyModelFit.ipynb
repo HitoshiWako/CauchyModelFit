{
 "cells": [
  {
   "cell_type": "code",
   "execution_count": 1,
   "metadata": {},
   "outputs": [
    {
     "name": "stderr",
     "output_type": "stream",
     "text": [
      "\u001b[32m\u001b[1m   Updating\u001b[22m\u001b[39m registry at `~/.julia/registries/General`\n",
      "\u001b[32m\u001b[1m  Resolving\u001b[22m\u001b[39m package versions...\n",
      "\u001b[32m\u001b[1mNo Changes\u001b[22m\u001b[39m to `~/.julia/environments/v1.5/Project.toml`\n",
      "\u001b[32m\u001b[1mNo Changes\u001b[22m\u001b[39m to `~/.julia/environments/v1.5/Manifest.toml`\n",
      "\u001b[32m\u001b[1m  Resolving\u001b[22m\u001b[39m package versions...\n",
      "\u001b[32m\u001b[1mNo Changes\u001b[22m\u001b[39m to `~/.julia/environments/v1.5/Project.toml`\n",
      "\u001b[32m\u001b[1mNo Changes\u001b[22m\u001b[39m to `~/.julia/environments/v1.5/Manifest.toml`\n",
      "\u001b[32m\u001b[1m  Resolving\u001b[22m\u001b[39m package versions...\n",
      "\u001b[32m\u001b[1mNo Changes\u001b[22m\u001b[39m to `~/.julia/environments/v1.5/Project.toml`\n",
      "\u001b[32m\u001b[1mNo Changes\u001b[22m\u001b[39m to `~/.julia/environments/v1.5/Manifest.toml`\n"
     ]
    },
    {
     "data": {
      "text/plain": [
       "Plots.PyPlotBackend()"
      ]
     },
     "execution_count": 1,
     "metadata": {},
     "output_type": "execute_result"
    }
   ],
   "source": [
    "using Pkg\n",
    "Pkg.add(\"CurveFit\")\n",
    "Pkg.add(\"Plots\")\n",
    "Pkg.add(\"PyPlot\")\n",
    "using CurveFit\n",
    "using Plots\n",
    "pyplot()"
   ]
  },
  {
   "cell_type": "markdown",
   "metadata": {},
   "source": [
    "## 反射率を求める\n",
    "### 垂直入射での反射率は\n",
    "$$\n",
    "R = \\biggl(\\frac{1-n_{1}}{1+n_{1}}\\biggr)^{2}\n",
    "$$\n",
    "### 斜入射の反射率\n",
    "実効屈折率$\\eta$を用いて計算する\n",
    "$$\n",
    "\\eta = \n",
    "    \\begin{cases}\n",
    "         -n\\cos\\theta \\quad \\text{s-polarized} \\\\\n",
    "         \\frac{n}{\\cos\\theta} \\qquad  \\  \\text{p-polarized} \\\\\n",
    "    \\end{cases}\n",
    "$$\n",
    "実効屈折率を用いて\n",
    "$$\n",
    "R=\\biggl|\\frac{\\eta_{0}-\\eta_{1}}{\\eta_{0}+\\eta_{1}}\\biggr|^{2}\n",
    "$$"
   ]
  },
  {
   "cell_type": "code",
   "execution_count": 21,
   "metadata": {},
   "outputs": [
    {
     "data": {
      "text/plain": [
       "reflectance (generic function with 3 methods)"
      ]
     },
     "execution_count": 21,
     "metadata": {},
     "output_type": "execute_result"
    }
   ],
   "source": [
    "function reflectance(n1; theta=0)\n",
    "    # snellの法則\n",
    "    phi = asin(sin(theta)/n1)\n",
    "    # s偏光\n",
    "    eta0s = -cos(theta)\n",
    "    eta1s = -n1*cos(phi)\n",
    "    rs = (abs((eta0s-eta1s)/(eta0s+eta1s)))^2\n",
    "    # p偏光\n",
    "    eta0p = 1/cos(theta)\n",
    "    eta1p = n1/cos(phi)\n",
    "    rp = (abs((eta0p-eta1p)/(eta0p+eta1p)))^2\n",
    "    return (rs+rp)/2\n",
    "end"
   ]
  },
  {
   "cell_type": "markdown",
   "metadata": {},
   "source": [
    "## 裏面反射を含める  \n",
    "<img src=\"裏面反射を含む反射.png\">\n",
    "\n",
    "媒質$i$から媒質$j$へ入る際の反射および透過をそれぞれ$R_{ij}$、$T_{ij}$とすると\n",
    "$$\n",
    "\\begin{align}\n",
    "R_{total}  &= R_{01}+\n",
    "              T_{01}R_{12}T_{10}+\n",
    "              T_{01}R_{12}R_{10}R_{12}T_{10}+\n",
    "              T_{01}R_{12}R_{10}R_{12}R_{10}R_{12}T_{10}+\\cdots \\\\\n",
    "           &= R_{01}+\\sum_{n}^{\\infty}T_{01}R_{12}T_{10}(R_{10}R_{12})^{n-1} \\\\\n",
    "           &= R_{01}+\\frac{T_{01}R_{12}T_{10}}{1-R_{10}R_{12}}\n",
    "\\end{align}              \n",
    "$$\n",
    "ここで\n",
    "$$\n",
    "T_{ij} = 1-R_{ij}　\\\\\n",
    "R_{ij} = R_{ji}\n",
    "$$\n",
    "なので、\n",
    "$$\n",
    "\\begin{align}\n",
    "R_{total}  &= R_{01}+\\frac{(1-R_{01})R_{12}(1-R_{10})}{1-R_{10}R_{12}} \\\\\n",
    "           &= R_{01}+\\frac{(1-R_{01})^2R_{12}}{1-R_{01}R_{12}} \\\\\n",
    "           &= \\frac{R_{01}-R_{01}^2R_{12}+R_{12}-2R_{01}R_{12}+R_{01}^2R_{12}}{1-R_{01}R_{12}} \\\\\n",
    "           &= \\frac{R_{01}+R_{12}-2R_{01}R_{12}}{1-R_{01}R_{12}}\n",
    "\\end{align}\n",
    "$$\n",
    "## 吸収を考慮に入れる\n",
    "吸収係数$\\alpha$と消衰係数$\\kappa$の関係は\n",
    "$$\n",
    "\\alpha = \\frac{4\\pi\\kappa}{\\lambda}\n",
    "$$\n",
    "長さ$x$進むと光の強度は\n",
    "$$\n",
    "I = I_{0}\\exp(-\\alpha x)\n",
    "$$\n",
    "角度$\\phi$で入射した光が裏面で反射して戻ってくるまでの光路長は\n",
    "$$\n",
    "x = \\frac{2t}{\\cos\\phi}\n",
    "$$\n",
    "よって１回の反射での光路長による吸収は\n",
    "$$\n",
    "D = \\exp\\biggl(-\\frac{8t\\pi\\kappa}{\\lambda\\cos\\phi}\\biggr)\n",
    "$$\n",
    "反射の式に入れると\n",
    "$$\n",
    "\\begin{align}\n",
    "R_{total}  &= R_{01}+\n",
    "              T_{01}R_{12}T_{10}D+\n",
    "              T_{01}R_{12}R_{10}R_{12}T_{10}D^{2}+\n",
    "              T_{01}R_{12}R_{10}R_{12}R_{10}R_{12}T_{10}D^{3}+\\cdots \\\\\n",
    "           &= R_{01}+\\sum_{n}^{\\infty}T_{01}R_{12}T_{10}D(R_{10}R_{12}D)^{n-1} \\\\\n",
    "           &= R_{01}+\\frac{T_{01}R_{12}T_{10}D}{1-R_{10}R_{12}D} \\\\\n",
    "           &= R_{01}+\\frac{(1-R_{01})^2R_{12}D}{1-R_{01}R_{12}D} \\\\\n",
    "           &= \\frac{R_{01}+R_{12}D-2R_{01}R_{12}D}{1-R_{01}R_{12}D}\n",
    "\\end{align}              \n",
    "$$"
   ]
  },
  {
   "cell_type": "code",
   "execution_count": 22,
   "metadata": {},
   "outputs": [
    {
     "data": {
      "text/plain": [
       "reflectance (generic function with 3 methods)"
      ]
     },
     "execution_count": 22,
     "metadata": {},
     "output_type": "execute_result"
    }
   ],
   "source": [
    "function reflectance(wl,n1; theta=0,t=1)\n",
    "    # snellの法則\n",
    "    phi = asin(sin(theta)/n1)\n",
    "    # s偏光\n",
    "    eta0s = -cos(theta)\n",
    "    eta1s = -n1*cos(phi)\n",
    "    r01s = (abs((eta0s-eta1s)/(eta0s+eta1s)))^2\n",
    "    # p偏光\n",
    "    eta0p = 1/cos(theta)\n",
    "    eta1p = n1/cos(phi)\n",
    "    r01p = (abs((eta0p-eta1p)/(eta0p+eta1p)))^2\n",
    "    # 減衰量\n",
    "    d = abs(exp(-8pi*t*imag(n1)/(wl*cos(phi))))\n",
    "    # 反射\n",
    "    rs = (r01s+r01s*d-2*r01s^2*d)/(1-r01s^2*d)\n",
    "    rp = (r01p+r01p*d-2*r01p^2*d)/(1-r01p^2*d)\n",
    "    return (rs+rp)/2\n",
    "end"
   ]
  },
  {
   "cell_type": "code",
   "execution_count": 4,
   "metadata": {},
   "outputs": [
    {
     "data": {
      "text/plain": [
       "reflectance (generic function with 3 methods)"
      ]
     },
     "execution_count": 4,
     "metadata": {},
     "output_type": "execute_result"
    }
   ],
   "source": [
    "function reflectance(wl,n0,n1,n2; theta=0,t=1)\n",
    "    # snellの法則\n",
    "    phi1 = asin(sin(theta)*n0/n1)\n",
    "    phi2 = asin(sin(theta)*n0/n2)\n",
    "    # s偏光\n",
    "    eta0s = -n0*cos(theta)\n",
    "    eta1s = -n1*cos(phi1)\n",
    "    eta2s = -n2*cos(phi2)\n",
    "    r01s = (abs((eta0s-eta1s)/(eta0s+eta1s)))^2\n",
    "    r12s = (abs((eta1s-eta2s)/(eta1s+eta2s)))^2\n",
    "    # p偏光\n",
    "    eta0p = n0/cos(theta)\n",
    "    eta1p = n1/cos(phi1)\n",
    "    eta2p = n2/cos(phi2)\n",
    "    r01p = (abs((eta0p-eta1p)/(eta0p+eta1p)))^2\n",
    "    r12p = (abs((eta1p-eta2p)/(eta1p+eta2p)))^2\n",
    "    # 減衰量\n",
    "    d = abs(exp(-8pi*t*imag(n1)/(wl*cos(phi1))))\n",
    "    # 反射\n",
    "    rs = (r01s+r12s*d-2*r01s*r12s*d)/(1-r01s*r12s*d)\n",
    "    rp = (r01p+r12p*d-2*r01p*r12p*d)/(1-r01p*r12p*d)\n",
    "    return (rs+rp)/2\n",
    "end"
   ]
  },
  {
   "cell_type": "markdown",
   "metadata": {},
   "source": [
    "## 透過について考える\n",
    "$$\n",
    "T_{ij} = \\biggl|\\frac{n_{i}\\cos\\theta_{i}}{n_{j}\\cos\\theta_{j}}\\biggr|\\cdot\\frac{4\\Re(\\eta_{i})\\Re(\\eta_{j})}{(\\eta_{i}+\\eta_{j})^{2}}\n",
    "$$\n",
    "を用いて\n",
    "$$\n",
    "\\begin{align}\n",
    "T_{total}  &= T_{01}T_{12}+\n",
    "              T_{01}R_{12}R_{10}T_{12}+\n",
    "              T_{01}R_{12}R_{10}R_{12}R_{10}T_{12}+\n",
    "              T_{01}R_{12}R_{10}R_{12}R_{10}R_{12}R_{10}T_{12}+\\cdots \\\\\n",
    "           &= \\sum_{n}^{\\infty}T_{01}T_{12}(R_{10}R_{12})^{n-1} \\\\\n",
    "           &= \\frac{T_{01}T_{12}}{1-R_{10}R_{12}}\n",
    "\\end{align}              \n",
    "$$\n",
    "吸収を考えると\n",
    "$$\n",
    "\\begin{align}\n",
    "T_{total}  &= \\sum_{n}^{\\infty}T_{01}T_{12}D^{1/2}(R_{10}R_{12}D)^{n-1} \\\\\n",
    "           &= \\frac{T_{01}T_{12}D^{1/2}}{1-R_{10}R_{12}D}\n",
    "\\end{align}              \n",
    "$$\n"
   ]
  },
  {
   "cell_type": "code",
   "execution_count": 5,
   "metadata": {},
   "outputs": [
    {
     "data": {
      "text/plain": [
       "transmittance (generic function with 1 method)"
      ]
     },
     "execution_count": 5,
     "metadata": {},
     "output_type": "execute_result"
    }
   ],
   "source": [
    "function transmittance(wl,n1; theta=0,t=1)\n",
    "    # snellの法則\n",
    "    phi = asin(sin(theta)/n1)\n",
    "    # s偏光\n",
    "    eta0s = -cos(theta)\n",
    "    eta1s = -n1*cos(phi)\n",
    "    r01s = (abs((eta0s-eta1s)/(eta0s+eta1s)))^2\n",
    "    t010s = 16*real(eta0s)^2*real(eta1s)^2/abs((eta0s+eta1s)*conj(eta0s+eta1s))^2\n",
    "    # p偏光\n",
    "    eta0p = 1/cos(theta)\n",
    "    eta1p = n1/cos(phi)\n",
    "    r01p = (abs((eta0p-eta1p)/(eta0p+eta1p)))^2\n",
    "    t010p = 16*real(eta0p)^2*real(eta1p)^2/abs((eta0p+eta1p)*conj(eta0p+eta1p))^2\n",
    "    # 減衰量\n",
    "    d = abs(exp(-8pi*t*imag(n1)/(wl*cos(phi))))\n",
    "    # 透過\n",
    "    ts = t010s*sqrt(d)/(1-r01s^2*d)\n",
    "    tp = t010p*sqrt(d)/(1-r01p^2*d)\n",
    "    @show \n",
    "    return (ts+tp)/2\n",
    "end"
   ]
  },
  {
   "cell_type": "code",
   "execution_count": 6,
   "metadata": {},
   "outputs": [
    {
     "data": {
      "text/plain": [
       "transmittance (generic function with 2 methods)"
      ]
     },
     "execution_count": 6,
     "metadata": {},
     "output_type": "execute_result"
    }
   ],
   "source": [
    "function transmittance(wl,n0,n1,n2; theta=0,t=1)\n",
    "    # snellの法則\n",
    "    phi1 = asin(sin(theta)*n0/n1)\n",
    "    phi2 = asin(sin(theta)*n0/n2)\n",
    "    # s偏光\n",
    "    eta0s = -n0*cos(theta)\n",
    "    eta1s = -n1*cos(phi1)\n",
    "    eta2s = -n2*cos(phi2)\n",
    "    r01s = (abs((eta0s-eta1s)/(eta0s+eta1s)))^2\n",
    "    r12s = (abs((eta1s-eta2s)/(eta1s+eta2s)))^2\n",
    "    t012s = abs(n0*cos(theta)/(n2*cos(phi2)))*16*real(eta0s)*real(eta1s)^2*real(eta2s)/(abs((eta0s+eta1s)*conj(eta0s+eta1s))*abs((eta1s+eta2s)*conj(eta1s+eta2s)))\n",
    "    # p偏光\n",
    "    eta0p = n0/cos(theta)\n",
    "    eta1p = n1/cos(phi1)\n",
    "    eta2p = n2/cos(phi2)\n",
    "    r01p = (abs((eta0p-eta1p)/(eta0p+eta1p)))^2\n",
    "    r12p = (abs((eta1p-eta2p)/(eta1p+eta2p)))^2\n",
    "    t012p = abs(n0*cos(theta)/(n2*cos(phi2)))*16*real(eta0p)*real(eta1p)^2*real(eta2p)/(abs((eta0p+eta1p)*conj(eta0p+eta1p))*abs((eta1p+eta2p)*conj(eta1p+eta2p)))\n",
    "    # 減衰量\n",
    "    d = abs(exp(-8pi*t*imag(n1)/(wl*cos(phi1))))\n",
    "    # 反射\n",
    "    ts = t012s*sqrt(d)/(1-r01s*r12s*d)\n",
    "    tp = t012p*sqrt(d)/(1-r01p*r12p*d)\n",
    "    return (ts+tp)/2\n",
    "end"
   ]
  },
  {
   "cell_type": "markdown",
   "metadata": {},
   "source": [
    "## Cauchyの式\n",
    "$$\n",
    "n(\\lambda) = A + \\frac{B}{\\lambda^{2}} + \\frac{C}{\\lambda^{4}}\n",
    "$$"
   ]
  },
  {
   "cell_type": "code",
   "execution_count": 7,
   "metadata": {},
   "outputs": [
    {
     "data": {
      "text/plain": [
       "cauchy (generic function with 1 method)"
      ]
     },
     "execution_count": 7,
     "metadata": {},
     "output_type": "execute_result"
    }
   ],
   "source": [
    "function cauchy(lam; a=1.0, b=0, c=0)\n",
    "    return a + b/lam^2 + c/lam^4\n",
    "end"
   ]
  },
  {
   "cell_type": "code",
   "execution_count": 8,
   "metadata": {},
   "outputs": [
    {
     "data": {
      "text/plain": [
       "fit_cauchy (generic function with 1 method)"
      ]
     },
     "execution_count": 8,
     "metadata": {},
     "output_type": "execute_result"
    }
   ],
   "source": [
    "function fit_cauchy(wl,r;a =1.5,b=0.01,c=0,eps=1e-7,iters=1000)\n",
    "    func(xs,param) = reflectance(cauchy(xs[1],a=param[1],b=param[2],c=param[3]))-xs[2]\n",
    "    return nonlinear_fit([wl r],func,[a,b,c],eps,iters)\n",
    "end"
   ]
  },
  {
   "cell_type": "code",
   "execution_count": 9,
   "metadata": {},
   "outputs": [
    {
     "data": {
      "image/png": "[encoded data removed]"
     },
     "execution_count": 9,
     "metadata": {},
     "output_type": "execute_result"
    }
   ],
   "source": [
    "x = 0.3:0.01:0.8\n",
    "y = reflectance.(cauchy.(x, a=1.543, b=0.02, c= 0.003)) + (rand(length(x)) .-0.5)*0.02\n",
    "plot(x, y, st=:scatter)\n",
    "param, converged, iter  = fit_cauchy(x,y)\n",
    "plot!(x,reflectance.(cauchy.(x, a=param[1], b=param[2], c= param[3])))"
   ]
  },
  {
   "cell_type": "markdown",
   "metadata": {},
   "source": [
    "## 裏面反射の有無で吸収を計算する\n",
    "基板の両側が同一媒質（空気）であるとする。\n",
    "裏面反射を含む反射を$R$、含まない反射を$R_{B}$とすれば\n",
    "$$\n",
    "R = R_{B}+\\frac{(1-R_{B})^2R_{B}D}{1-R_{B}^{2}D}            \n",
    "$$\n",
    "$D$について解くと\n",
    "$$\n",
    "D = \\frac{R-R_{B}}{(RR_{B}-2RR_{B}+1)R_{B}}\n",
    "$$\n"
   ]
  },
  {
   "cell_type": "markdown",
   "metadata": {},
   "source": [
    "## Cauchyモデル（吸収あり）"
   ]
  },
  {
   "cell_type": "code",
   "execution_count": 10,
   "metadata": {},
   "outputs": [
    {
     "data": {
      "text/plain": [
       "cauchy (generic function with 1 method)"
      ]
     },
     "execution_count": 10,
     "metadata": {},
     "output_type": "execute_result"
    }
   ],
   "source": [
    "function cauchy(lam; a=1.0, b=0, c=0, k=0, expo=1.5)\n",
    "    return complex(a + b/lam^2 + c/lam^4, k*exp(expo/lam))\n",
    "end"
   ]
  },
  {
   "cell_type": "code",
   "execution_count": 11,
   "metadata": {},
   "outputs": [
    {
     "data": {
      "text/plain": [
       "0.3:0.05:0.8"
      ]
     },
     "execution_count": 11,
     "metadata": {},
     "output_type": "execute_result"
    }
   ],
   "source": [
    "wl = 0.3:0.05:0.8"
   ]
  },
  {
   "cell_type": "code",
   "execution_count": 20,
   "metadata": {},
   "outputs": [
    {
     "data": {
      "image/png": "[encoded data removed]"
     },
     "execution_count": 20,
     "metadata": {},
     "output_type": "execute_result"
    }
   ],
   "source": [
    "plot(wl,exp.(4*pi\\imag.(cauchy.(wl,a=1.5,b=0.08,c=1e-4,k=1e-4)) ./wl))"
   ]
  },
  {
   "cell_type": "code",
   "execution_count": 13,
   "metadata": {},
   "outputs": [
    {
     "data": {
      "image/png": "[encoded data removed]"
     },
     "execution_count": 13,
     "metadata": {},
     "output_type": "execute_result"
    }
   ],
   "source": [
    "plot(wl,1e-2*exp.(1.5./wl))"
   ]
  },
  {
   "cell_type": "code",
   "execution_count": 14,
   "metadata": {
    "scrolled": true
   },
   "outputs": [
    {
     "data": {
      "text/plain": [
       "11-element Array{Float64,1}:\n",
       " 0.0002227230680057324\n",
       " 0.0007404794815934165\n",
       " 0.0018231562906258448\n",
       " 0.0036743185068401647\n",
       " 0.0064366385240999975\n",
       " 0.01018291051890681\n",
       " 0.014923909273569456\n",
       " 0.020623063044005928\n",
       " 0.02721175263729656\n",
       " 0.034602388680336015\n",
       " 0.042698434287756326"
      ]
     },
     "execution_count": 14,
     "metadata": {},
     "output_type": "execute_result"
    }
   ],
   "source": [
    "t=100\n",
    "phi=5*π/180\n",
    "exp.(-8*π*t*0.001./wl/cos(phi))"
   ]
  },
  {
   "cell_type": "code",
   "execution_count": null,
   "metadata": {},
   "outputs": [],
   "source": []
  }
 ],
 "metadata": {
  "kernelspec": {
   "display_name": "Julia 1.5.0",
   "language": "julia",
   "name": "julia-1.5"
  },
  "language_info": {
   "file_extension": ".jl",
   "mimetype": "application/julia",
   "name": "julia",
   "version": "1.5.0"
  },
  "toc-autonumbering": false,
  "toc-showmarkdowntxt": false
 },
 "nbformat": 4,
 "nbformat_minor": 4
}
