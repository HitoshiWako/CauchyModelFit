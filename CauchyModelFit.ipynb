{
 "cells": [
  {
   "cell_type": "code",
   "execution_count": 1,
   "metadata": {},
   "outputs": [
    {
     "name": "stderr",
     "output_type": "stream",
     "text": [
      "\u001b[32m\u001b[1m   Updating\u001b[22m\u001b[39m registry at `~/.julia/registries/General`\n",
      "--2020-09-21 05:47:43--  https://pkg.julialang.org/registry/23338594-aafe-5451-b93e-139f81909106/3054753ca208b69840d826c29d4552a55b5ae3d8\n",
      "Resolving pkg.julialang.org (pkg.julialang.org)... 151.101.110.217\n",
      "Connecting to pkg.julialang.org (pkg.julialang.org)|151.101.110.217|:443... connected.\n",
      "HTTP request sent, awaiting response... 301 East Asia -> KR internal redirect trigger\n",
      "Location: https://kr.pkg.julialang.org/registry/23338594-aafe-5451-b93e-139f81909106/3054753ca208b69840d826c29d4552a55b5ae3d8 [following]\n",
      "--2020-09-21 05:47:44--  https://kr.pkg.julialang.org/registry/23338594-aafe-5451-b93e-139f81909106/3054753ca208b69840d826c29d4552a55b5ae3d8\n",
      "Resolving kr.pkg.julialang.org (kr.pkg.julialang.org)... 52.78.54.175\n",
      "Connecting to kr.pkg.julialang.org (kr.pkg.julialang.org)|52.78.54.175|:443... connected.\n",
      "HTTP request sent, awaiting response... 200 OK\n",
      "Length: 2204770 (2.1M) [application/tar]\n",
      "Saving to: ‘/tmp/jl_XX4f4g-download.gz’\n",
      "\n",
      "     0K .......... .......... .......... .......... ..........  2%  893K 2s\n",
      "    50K .......... .......... .......... .......... ..........  4%  915K 2s\n",
      "   100K .......... .......... .......... .......... ..........  6% 3.63M 2s\n",
      "   150K .......... .......... .......... .......... ..........  9% 1010K 2s\n",
      "   200K .......... .......... .......... .......... .......... 11% 4.88M 1s\n",
      "   250K .......... .......... .......... .......... .......... 13% 1.06M 1s\n",
      "   300K .......... .......... .......... .......... .......... 16% 3.19M 1s\n",
      "   350K .......... .......... .......... .......... .......... 18% 1.22M 1s\n",
      "   400K .......... .......... .......... .......... .......... 20% 2.82M 1s\n",
      "   450K .......... .......... .......... .......... .......... 23% 5.18M 1s\n",
      "   500K .......... .......... .......... .......... .......... 25% 1.57M 1s\n",
      "   550K .......... .......... .......... .......... .......... 27% 2.76M 1s\n",
      "   600K .......... .......... .......... .......... .......... 30% 1.51M 1s\n",
      "   650K .......... .......... .......... .......... .......... 32% 3.00M 1s\n",
      "   700K .......... .......... .......... .......... .......... 34% 2.13M 1s\n",
      "   750K .......... .......... .......... .......... .......... 37% 1.92M 1s\n",
      "   800K .......... .......... .......... .......... .......... 39% 2.75M 1s\n",
      "   850K .......... .......... .......... .......... .......... 41% 2.07M 1s\n",
      "   900K .......... .......... .......... .......... .......... 44% 3.64M 1s\n",
      "   950K .......... .......... .......... .......... .......... 46% 2.22M 1s\n",
      "  1000K .......... .......... .......... .......... .......... 48% 1.14M 1s\n",
      "  1050K .......... .......... .......... .......... .......... 51% 3.99M 1s\n",
      "  1100K .......... .......... .......... .......... .......... 53% 1.63M 1s\n",
      "  1150K .......... .......... .......... .......... .......... 55% 1.38M 1s\n",
      "  1200K .......... .......... .......... .......... .......... 58% 5.15M 0s\n",
      "  1250K .......... .......... .......... .......... .......... 60% 4.22M 0s\n",
      "  1300K .......... .......... .......... .......... .......... 62% 1.55M 0s\n",
      "  1350K .......... .......... .......... .......... .......... 65% 2.51M 0s\n",
      "  1400K .......... .......... .......... .......... .......... 67% 7.01M 0s\n",
      "  1450K .......... .......... .......... .......... .......... 69% 1.82M 0s\n",
      "  1500K .......... .......... .......... .......... .......... 71% 2.54M 0s\n",
      "  1550K .......... .......... .......... .......... .......... 74% 3.38M 0s\n",
      "  1600K .......... .......... .......... .......... .......... 76% 2.96M 0s\n",
      "  1650K .......... .......... .......... .......... .......... 78% 3.91M 0s\n",
      "  1700K .......... .......... .......... .......... .......... 81% 2.24M 0s\n",
      "  1750K .......... .......... .......... .......... .......... 83% 3.60M 0s\n",
      "  1800K .......... .......... .......... .......... .......... 85% 4.45M 0s\n",
      "  1850K .......... .......... .......... .......... .......... 88% 4.63M 0s\n",
      "  1900K .......... .......... .......... .......... .......... 90% 2.56M 0s\n",
      "  1950K .......... .......... .......... .......... .......... 92% 1.89M 0s\n",
      "  2000K .......... .......... .......... .......... .......... 95% 6.98M 0s\n",
      "  2050K .......... .......... .......... .......... .......... 97% 2.81M 0s\n",
      "  2100K .......... .......... .......... .......... .......... 99% 6.17M 0s\n",
      "  2150K ...                                                   100% 12.0M=1.0s\n",
      "\n",
      "2020-09-21 05:47:45 (2.20 MB/s) - ‘/tmp/jl_XX4f4g-download.gz’ saved [2204770/2204770]\n",
      "\n",
      "\u001b[32m\u001b[1m  Resolving\u001b[22m\u001b[39m package versions...\n",
      "\u001b[32m\u001b[1mNo Changes\u001b[22m\u001b[39m to `~/.julia/environments/v1.5/Project.toml`\n",
      "\u001b[32m\u001b[1mNo Changes\u001b[22m\u001b[39m to `~/.julia/environments/v1.5/Manifest.toml`\n",
      "\u001b[32m\u001b[1m  Resolving\u001b[22m\u001b[39m package versions...\n",
      "\u001b[32m\u001b[1mNo Changes\u001b[22m\u001b[39m to `~/.julia/environments/v1.5/Project.toml`\n",
      "\u001b[32m\u001b[1mNo Changes\u001b[22m\u001b[39m to `~/.julia/environments/v1.5/Manifest.toml`\n",
      "\u001b[32m\u001b[1m  Resolving\u001b[22m\u001b[39m package versions...\n",
      "\u001b[32m\u001b[1mNo Changes\u001b[22m\u001b[39m to `~/.julia/environments/v1.5/Project.toml`\n",
      "\u001b[32m\u001b[1mNo Changes\u001b[22m\u001b[39m to `~/.julia/environments/v1.5/Manifest.toml`\n"
     ]
    },
    {
     "data": {
      "text/plain": [
       "Plots.PyPlotBackend()"
      ]
     },
     "execution_count": 1,
     "metadata": {},
     "output_type": "execute_result"
    }
   ],
   "source": [
    "using Pkg\n",
    "Pkg.add(\"CurveFit\")\n",
    "Pkg.add(\"Plots\")\n",
    "Pkg.add(\"PyPlot\")\n",
    "using CurveFit\n",
    "using Plots\n",
    "pyplot()"
   ]
  },
  {
   "cell_type": "markdown",
   "metadata": {},
   "source": [
    "## 反射率を求める\n",
    "### 垂直入射での反射率は\n",
    "$$\n",
    "R = \\biggl(\\frac{1-n_{1}}{1+n_{1}}\\biggr)^{2}\n",
    "$$\n",
    "### 斜入射の反射率\n",
    "実効屈折率$\\eta$を用いて計算する\n",
    "$$\n",
    "\\eta = \n",
    "    \\begin{cases}\n",
    "         -n\\cos\\theta \\quad \\text{s-polarized} \\\\\n",
    "         \\frac{n}{\\cos\\theta} \\qquad  \\  \\text{p-polarized} \\\\\n",
    "    \\end{cases}\n",
    "$$\n",
    "実効屈折率を用いて\n",
    "$$\n",
    "R=\\biggl|\\frac{\\eta_{0}-\\eta_{1}}{\\eta_{0}+\\eta_{1}}\\biggr|^{2}\n",
    "$$"
   ]
  },
  {
   "cell_type": "code",
   "execution_count": 2,
   "metadata": {},
   "outputs": [
    {
     "data": {
      "text/plain": [
       "reflectance (generic function with 1 method)"
      ]
     },
     "execution_count": 2,
     "metadata": {},
     "output_type": "execute_result"
    }
   ],
   "source": [
    "function reflectance(n1; angle=0)\n",
    "    # snellの法則\n",
    "    phi = asin(sin(angle)/n1)\n",
    "    # s偏光\n",
    "    eta0s = -cos(angle)\n",
    "    eta1s = -n1*cos(phi)\n",
    "    rs = (abs((eta0s-eta1s)/(eta0s+eta1s)))^2\n",
    "    # p偏光\n",
    "    eta0p = 1/cos(angle)\n",
    "    eta1p = n1/cos(phi)\n",
    "    rp = (abs((eta0p-eta1p)/(eta0p+eta1p)))^2\n",
    "    return (rs+rp)/2\n",
    "end"
   ]
  },
  {
   "cell_type": "markdown",
   "metadata": {},
   "source": [
    "## 裏面反射を含める  \n",
    "<img src=\"裏面反射を含む反射.png\">\n",
    "\n",
    "媒質$i$から媒質$j$へ入る際の反射および透過をそれぞれ$R_{ij}$、$T_{ij}$とすると\n",
    "$$\n",
    "\\begin{align}\n",
    "R_{total}  &= R_{01}+\n",
    "              T_{01}R_{12}T_{10}+\n",
    "              T_{01}R_{12}R_{10}R_{12}T_{10}+\n",
    "              T_{01}R_{12}R_{10}R_{12}R_{10}R_{12}T_{10}+\\cdots \\\\\n",
    "           &= R_{01}+\\sum_{n}^{\\infty}T_{01}R_{12}T_{10}(R_{10}R_{12})^{n-1} \\\\\n",
    "           &= R_{01}+\\frac{T_{01}R_{12}T_{10}}{1-R_{10}R_{12}}\n",
    "\\end{align}              \n",
    "$$\n",
    "ここで\n",
    "$$\n",
    "T_{ij} = 1-R_{ij}　\\\\\n",
    "R_{ij} = R_{ji}\n",
    "$$\n",
    "なので、\n",
    "$$\n",
    "\\begin{align}\n",
    "R_{total}  &= R_{01}+\\frac{(1-R_{01})R_{12}(1-R_{10})}{1-R_{10}R_{12}} \\\\\n",
    "           &= R_{01}+\\frac{(1-R_{01})^2R_{12}}{1-R_{01}R_{12}} \\\\\n",
    "           &= \\frac{R_{01}-R_{01}^2R_{12}+R_{12}-2R_{01}R_{12}+R_{01}^2R_{12}}{1-R_{01}R_{12}} \\\\\n",
    "           &= \\frac{R_{01}+R_{12}-2R_{01}R_{12}}{1-R_{01}R_{12}}\n",
    "\\end{align}\n",
    "$$\n",
    "## 吸収を考慮に入れる\n",
    "吸収係数$\\alpha$と消衰係数$\\kappa$の関係は\n",
    "$$\n",
    "\\alpha = \\frac{4\\pi\\kappa}{\\lambda}\n",
    "$$\n",
    "長さ$x$進むと光の強度は\n",
    "$$\n",
    "I = I_{0}\\exp(-\\alpha x)\n",
    "$$\n",
    "角度$\\phi$で入射した光が裏面で反射して戻ってくるまでの光路長は\n",
    "$$\n",
    "x = \\frac{2t}{\\cos\\phi}\n",
    "$$\n",
    "よって１回の反射での光路長による吸収は\n",
    "$$\n",
    "D = \\exp\\biggl(-\\frac{8t\\pi\\kappa}{\\lambda\\cos\\phi}\\biggr)\n",
    "$$\n",
    "反射の式に入れると\n",
    "$$\n",
    "\\begin{align}\n",
    "R_{total}  &= R_{01}+\n",
    "              T_{01}R_{12}T_{10}D+\n",
    "              T_{01}R_{12}R_{10}R_{12}T_{10}D^{2}+\n",
    "              T_{01}R_{12}R_{10}R_{12}R_{10}R_{12}T_{10}D^{3}+\\cdots \\\\\n",
    "           &= R_{01}+\\sum_{n}^{\\infty}T_{01}R_{12}T_{10}D(R_{10}R_{12}D)^{n-1} \\\\\n",
    "           &= R_{01}+\\frac{T_{01}R_{12}T_{10}D}{1-R_{10}R_{12}D} \\\\\n",
    "           &= R_{01}+\\frac{(1-R_{01})^2R_{12}D}{1-R_{01}R_{12}D} \\\\\n",
    "           &= \\frac{R_{01}+R_{12}D-2R_{01}R_{12}D}{1-R_{01}R_{12}D}\n",
    "\\end{align}              \n",
    "$$"
   ]
  },
  {
   "cell_type": "code",
   "execution_count": 3,
   "metadata": {},
   "outputs": [
    {
     "data": {
      "text/plain": [
       "reflectance (generic function with 2 methods)"
      ]
     },
     "execution_count": 3,
     "metadata": {},
     "output_type": "execute_result"
    }
   ],
   "source": [
    "function reflectance(wl,n1; angle=0,thickness=100)\n",
    "    # snellの法則\n",
    "    phi = asin(sin(angle)/n1)\n",
    "    # s偏光\n",
    "    eta0s = -cos(angle)\n",
    "    eta1s = -n1*cos(phi)\n",
    "    r01s = (abs((eta0s-eta1s)/(eta0s+eta1s)))^2\n",
    "    # p偏光\n",
    "    eta0p = 1/cos(angle)\n",
    "    eta1p = n1/cos(phi)\n",
    "    r01p = (abs((eta0p-eta1p)/(eta0p+eta1p)))^2\n",
    "    # 減衰量\n",
    "    d = abs(exp(8π*thickness*imag(n1)/(wl*cos(phi))))\n",
    "    # 反射\n",
    "    rs = (r01s+r01s*d-2*r01s^2*d)/(1-r01s^2*d)\n",
    "    rp = (r01p+r01p*d-2*r01p^2*d)/(1-r01p^2*d)\n",
    "    return (rs+rp)/2\n",
    "end"
   ]
  },
  {
   "cell_type": "code",
   "execution_count": 4,
   "metadata": {},
   "outputs": [
    {
     "data": {
      "text/plain": [
       "reflectance (generic function with 3 methods)"
      ]
     },
     "execution_count": 4,
     "metadata": {},
     "output_type": "execute_result"
    }
   ],
   "source": [
    "function reflectance(wl,n0,n1,n2; angle=0,thickness=100)\n",
    "    # snellの法則\n",
    "    phi1 = asin(sin(angle)*n0/n1)\n",
    "    phi2 = asin(sin(angle)*n0/n2)\n",
    "    # s偏光\n",
    "    eta0s = -n0*cos(angle)\n",
    "    eta1s = -n1*cos(phi1)\n",
    "    eta2s = -n2*cos(phi2)\n",
    "    r01s = (abs((eta0s-eta1s)/(eta0s+eta1s)))^2\n",
    "    r12s = (abs((eta1s-eta2s)/(eta1s+eta2s)))^2\n",
    "    # p偏光\n",
    "    eta0p = n0/cos(angle)\n",
    "    eta1p = n1/cos(phi1)\n",
    "    eta2p = n2/cos(phi2)\n",
    "    r01p = (abs((eta0p-eta1p)/(eta0p+eta1p)))^2\n",
    "    r12p = (abs((eta1p-eta2p)/(eta1p+eta2p)))^2\n",
    "    # 減衰量\n",
    "    d = abs(exp(8π*thickness*imag(n1)/(wl*cos(phi1))))\n",
    "    # 反射\n",
    "    rs = (r01s+r12s*d-2*r01s*r12s*d)/(1-r01s*r12s*d)\n",
    "    rp = (r01p+r12p*d-2*r01p*r12p*d)/(1-r01p*r12p*d)\n",
    "    return (rs+rp)/2\n",
    "end"
   ]
  },
  {
   "cell_type": "markdown",
   "metadata": {},
   "source": [
    "## 裏面反射の有無で吸収を計算する\n",
    "基板の両側が同一媒質（空気）であるとする。\n",
    "裏面反射を含む反射を$R$、含まない反射を$R_{B}$とすれば\n",
    "$$\n",
    "R = R_{B}+\\frac{(1-R_{B})^2R_{B}D}{1-R_{B}^{2}D}            \n",
    "$$\n",
    "$D$について解くと\n",
    "$$\n",
    "D = \\frac{R-R_{B}}{(RR_{B}-2R_{B}+1)R_{B}}\n",
    "$$\n"
   ]
  },
  {
   "cell_type": "markdown",
   "metadata": {},
   "source": [
    "## Cauchyの式\n",
    "$$\n",
    "n(\\lambda) = A + \\frac{B}{\\lambda^{2}} + \\frac{C}{\\lambda^{4}}\n",
    "$$\n",
    "## 指数型吸収\n",
    "$$\n",
    "k(\\lambda) = k_{0} \\exp\\biggl(\\frac{E}{\\lambda}\\biggr)\n",
    "$$\n",
    "## 複素屈折率\n",
    "$$\n",
    "m(\\lambda) = n(\\lambda)-ik(\\lambda)\n",
    "$$"
   ]
  },
  {
   "cell_type": "code",
   "execution_count": 5,
   "metadata": {},
   "outputs": [
    {
     "data": {
      "text/plain": [
       "cauchy (generic function with 1 method)"
      ]
     },
     "execution_count": 5,
     "metadata": {},
     "output_type": "execute_result"
    }
   ],
   "source": [
    "function cauchy(lam; a=1.0, b=0, c=0, k=0, expo=1.5)\n",
    "    return complex(a + b/lam^2 + c/lam^4, -k*exp(expo/lam))\n",
    "end"
   ]
  },
  {
   "cell_type": "code",
   "execution_count": 6,
   "metadata": {},
   "outputs": [
    {
     "data": {
      "text/plain": [
       "cauchy_fit (generic function with 1 method)"
      ]
     },
     "execution_count": 6,
     "metadata": {},
     "output_type": "execute_result"
    }
   ],
   "source": [
    "function cauchy_fit(wl,ref,ref_b,angle,thickness; ϵ=1e-7,iters=100)\n",
    "    d=(ref-ref_b)./((ref.*ref_b-2*ref_b.+1).*ref_b)\n",
    "    f(x,a)=x[2]-reflectance(cauchy(x[1],a=a[1],b=a[2],c=a[3]),angle=angle)\n",
    "    a1, _, _= nonlinear_fit([wl ref_b],f,a0,ϵ,iters)\n",
    "    k = real(-wl.*log.(d)./(8π*thickness).*cos.(sin(angle)./cauchy.(wl,a=a1[1],b=a1[2],c=a1[3])))\n",
    "    final = findfirst(k .<=0)\n",
    "    k0,expo = exp_fit(1 ./wl[begin:final-1],k[begin:final-1])\n",
    "    return [a1[1],a1[2],a1[3],k0,expo]\n",
    "end"
   ]
  },
  {
   "cell_type": "code",
   "execution_count": 12,
   "metadata": {},
   "outputs": [
    {
     "data": {
      "image/png": "[encoded data removed]"
     },
     "execution_count": 12,
     "metadata": {},
     "output_type": "execute_result"
    }
   ],
   "source": [
    "wl = 0.3:0.001:0.8\n",
    "angle = 5π/180\n",
    "thickness = 100\n",
    "a0=[1.5, 0.001, 1e-5]\n",
    "ϵ = 1e-7\n",
    "iters = 100 \n",
    "\n",
    "n1 = cauchy.(wl, a=2, b=0.00234, c=1e-4, k=5e-8, expo=1.2)\n",
    "\n",
    "ref_b = reflectance.(n1, angle=angle).*(randn(size(wl))*0.001 .+1)\n",
    "ref = reflectance.(wl, n1, angle=angle, thickness=thickness).*(randn(size(wl))*0.001 .+1)\n",
    "\n",
    "param = cauchy_fit(wl,ref,ref_b,angle,thickness,iters=1000)\n",
    "plot(wl, ref, st=:scatter)\n",
    "plot!(wl,reflectance.(wl,cauchy.(wl, a=param[1],b=param[2],c=param[3],k=param[4],expo=param[5]),\n",
    "                      angle=angle,thickness=thickness))"
   ]
  },
  {
   "cell_type": "markdown",
   "metadata": {},
   "source": [
    "## 透過について考える\n",
    "$$\n",
    "T_{ij} = \\biggl|\\frac{n_{i}\\cos\\theta_{i}}{n_{j}\\cos\\theta_{j}}\\biggr|\\cdot\\frac{4\\Re(\\eta_{i})\\Re(\\eta_{j})}{(\\eta_{i}+\\eta_{j})^{2}}\n",
    "$$\n",
    "を用いて\n",
    "$$\n",
    "\\begin{align}\n",
    "T_{total}  &= T_{01}T_{12}+\n",
    "              T_{01}R_{12}R_{10}T_{12}+\n",
    "              T_{01}R_{12}R_{10}R_{12}R_{10}T_{12}+\n",
    "              T_{01}R_{12}R_{10}R_{12}R_{10}R_{12}R_{10}T_{12}+\\cdots \\\\\n",
    "           &= \\sum_{n}^{\\infty}T_{01}T_{12}(R_{10}R_{12})^{n-1} \\\\\n",
    "           &= \\frac{T_{01}T_{12}}{1-R_{10}R_{12}}\n",
    "\\end{align}              \n",
    "$$\n",
    "吸収を考えると\n",
    "$$\n",
    "\\begin{align}\n",
    "T_{total}  &= \\sum_{n}^{\\infty}T_{01}T_{12}D^{1/2}(R_{10}R_{12}D)^{n-1} \\\\\n",
    "           &= \\frac{T_{01}T_{12}D^{1/2}}{1-R_{10}R_{12}D}\n",
    "\\end{align}              \n",
    "$$\n"
   ]
  },
  {
   "cell_type": "code",
   "execution_count": 8,
   "metadata": {},
   "outputs": [
    {
     "data": {
      "text/plain": [
       "transmittance (generic function with 1 method)"
      ]
     },
     "execution_count": 8,
     "metadata": {},
     "output_type": "execute_result"
    }
   ],
   "source": [
    "function transmittance(wl,n1; theta=0,t=1)\n",
    "    # snellの法則\n",
    "    phi = asin(sin(theta)/n1)\n",
    "    # s偏光\n",
    "    eta0s = -cos(theta)\n",
    "    eta1s = -n1*cos(phi)\n",
    "    r01s = (abs((eta0s-eta1s)/(eta0s+eta1s)))^2\n",
    "    t010s = 16*real(eta0s)^2*real(eta1s)^2/abs((eta0s+eta1s)*conj(eta0s+eta1s))^2\n",
    "    # p偏光\n",
    "    eta0p = 1/cos(theta)\n",
    "    eta1p = n1/cos(phi)\n",
    "    r01p = (abs((eta0p-eta1p)/(eta0p+eta1p)))^2\n",
    "    t010p = 16*real(eta0p)^2*real(eta1p)^2/abs((eta0p+eta1p)*conj(eta0p+eta1p))^2\n",
    "    # 減衰量\n",
    "    d = abs(exp(-8pi*t*imag(n1)/(wl*cos(phi))))\n",
    "    # 透過\n",
    "    ts = t010s*sqrt(d)/(1-r01s^2*d)\n",
    "    tp = t010p*sqrt(d)/(1-r01p^2*d)\n",
    "    return (ts+tp)/2\n",
    "end"
   ]
  },
  {
   "cell_type": "code",
   "execution_count": 9,
   "metadata": {},
   "outputs": [
    {
     "data": {
      "text/plain": [
       "transmittance (generic function with 2 methods)"
      ]
     },
     "execution_count": 9,
     "metadata": {},
     "output_type": "execute_result"
    }
   ],
   "source": [
    "function transmittance(wl,n0,n1,n2; theta=0,t=1)\n",
    "    # snellの法則\n",
    "    phi1 = asin(sin(theta)*n0/n1)\n",
    "    phi2 = asin(sin(theta)*n0/n2)\n",
    "    # s偏光\n",
    "    eta0s = -n0*cos(theta)\n",
    "    eta1s = -n1*cos(phi1)\n",
    "    eta2s = -n2*cos(phi2)\n",
    "    r01s = (abs((eta0s-eta1s)/(eta0s+eta1s)))^2\n",
    "    r12s = (abs((eta1s-eta2s)/(eta1s+eta2s)))^2\n",
    "    t012s = abs(n0*cos(theta)/(n2*cos(phi2)))*16*real(eta0s)*real(eta1s)^2*real(eta2s)/(abs((eta0s+eta1s)*conj(eta0s+eta1s))*abs((eta1s+eta2s)*conj(eta1s+eta2s)))\n",
    "    # p偏光\n",
    "    eta0p = n0/cos(theta)\n",
    "    eta1p = n1/cos(phi1)\n",
    "    eta2p = n2/cos(phi2)\n",
    "    r01p = (abs((eta0p-eta1p)/(eta0p+eta1p)))^2\n",
    "    r12p = (abs((eta1p-eta2p)/(eta1p+eta2p)))^2\n",
    "    t012p = abs(n0*cos(theta)/(n2*cos(phi2)))*16*real(eta0p)*real(eta1p)^2*real(eta2p)/(abs((eta0p+eta1p)*conj(eta0p+eta1p))*abs((eta1p+eta2p)*conj(eta1p+eta2p)))\n",
    "    # 減衰量\n",
    "    d = abs(exp(-8pi*t*imag(n1)/(wl*cos(phi1))))\n",
    "    # 反射\n",
    "    ts = t012s*sqrt(d)/(1-r01s*r12s*d)\n",
    "    tp = t012p*sqrt(d)/(1-r01p*r12p*d)\n",
    "    return (ts+tp)/2\n",
    "end"
   ]
  }
 ],
 "metadata": {
  "kernelspec": {
   "display_name": "Julia 1.5.0",
   "language": "julia",
   "name": "julia-1.5"
  },
  "language_info": {
   "file_extension": ".jl",
   "mimetype": "application/julia",
   "name": "julia",
   "version": "1.5.0"
  },
  "toc-autonumbering": false,
  "toc-showmarkdowntxt": false
 },
 "nbformat": 4,
 "nbformat_minor": 4
}
